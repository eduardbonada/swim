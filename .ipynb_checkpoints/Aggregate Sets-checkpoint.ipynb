{
 "cells": [
  {
   "cell_type": "markdown",
   "metadata": {},
   "source": [
    "## Aggregate Sets\n",
    "\n",
    "This script processes the csv file including all the lengths and aggregates them \n",
    "into swimminng sets (of the same style). The sets are dumped into a csv file with these columns:\n",
    "\n",
    "> datetime  |  interval  |  set_in_interval  |  style  |  distance  |  time  |  strokes  |  prev_rest  |  after_rest"
   ]
  },
  {
   "cell_type": "code",
   "execution_count": 2,
   "metadata": {
    "collapsed": true
   },
   "outputs": [],
   "source": [
    "import pandas as pd\n",
    "from datetime import datetime, timedelta"
   ]
  },
  {
   "cell_type": "code",
   "execution_count": 30,
   "metadata": {
    "collapsed": false
   },
   "outputs": [],
   "source": [
    "# read the csv file with lengths data\n",
    "lengths = pd.read_csv('lengths.csv')"
   ]
  },
  {
   "cell_type": "code",
   "execution_count": 96,
   "metadata": {
    "collapsed": false
   },
   "outputs": [],
   "source": [
    "# Iterate all lengths and keep aggregating into sets\n",
    "\n",
    "# set aux variables the help in the iteration\n",
    "sets_dictlist   = []     # aux list of dicts that contains all sets\n",
    "max_rest        = 1000.0 # rest time (s) that will be assigned to first (prev_rest) and last (after_rest) sets of the day\n",
    "last_datetime   = ''\n",
    "last_interval   = 0\n",
    "set_in_interval = 1\n",
    "last_style      = ''\n",
    "set_distance    = 0\n",
    "set_time        = 0.0\n",
    "set_strokes     = 0\n",
    "last_rest       = max_rest\n",
    "num_rows        = len(lengths)\n",
    "\n",
    "# iterate all rows of lengths df\n",
    "for index, length in lengths.iterrows():\n",
    "        \n",
    "    # if the current row represents a REST\n",
    "    if  length['style'] == 'REST':\n",
    "        \n",
    "        # if last length was not a REST\n",
    "        if last_style != 'REST':\n",
    "                \n",
    "            # persist set data\n",
    "            sets_dictlist.append({\n",
    "                    'datetime':last_datetime,'interval':last_interval,'set_in_interval':set_in_interval, \\\n",
    "                    'style':last_style,'distance':set_distance,'time':str(round(set_time,3)),'strokes':set_strokes, \\\n",
    "                    'prev_rest':str(round(last_rest,3)),'after_rest':str(round(length['time'],3))\n",
    "                })\n",
    "            #print(last_datetime, last_interval, set_in_interval, \\\n",
    "            #      last_style, set_distance, set_time, set_strokes, \\\n",
    "            #      last_rest, length['time'])\n",
    "\n",
    "            # update variables\n",
    "            last_datetime   = length['datetime'] # datetime.strptime(length['datetime'], '%Y-%m-%d %H:%M:%S')\n",
    "            last_interval   = length['interval'] # int(length['interval'])\n",
    "            last_style      = length['style']\n",
    "            set_in_interval = 1\n",
    "            set_distance    = 0\n",
    "            set_time        = 0.0\n",
    "            set_strokes     = 0\n",
    "            last_rest       = length['time']\n",
    "\n",
    "        # if last length was a REST (dealing with consecutive RESTs) \n",
    "        else:\n",
    "            \n",
    "            # update variables\n",
    "            last_rest = last_rest + length['time']\n",
    "\n",
    "    # if the current row represents a change of style within same interval \n",
    "    elif(\n",
    "            index>0 and \\\n",
    "            last_datetime == length['datetime'] and \\\n",
    "            last_interval == length['interval'] and \\\n",
    "            last_style != length['style'] and \\\n",
    "            last_style != 'REST'\n",
    "        ): \n",
    "\n",
    "        # persist set data\n",
    "        sets_dictlist.append({\n",
    "                'datetime':last_datetime,'interval':last_interval,'set_in_interval':set_in_interval, \\\n",
    "                'style':last_style,'distance':set_distance,'time':str(round(set_time,3)),'strokes':set_strokes, \\\n",
    "                'prev_rest':str(round(last_rest,3)),'after_rest':0.0\n",
    "            })\n",
    "        #print(last_datetime, last_interval, set_in_interval, \\\n",
    "        #      last_style, set_distance, set_time, set_strokes, \\\n",
    "        #      last_rest, 0.0)\n",
    "            \n",
    "        # update variables\n",
    "        last_datetime   = length['datetime'] # datetime.strptime(length['datetime'], '%Y-%m-%d %H:%M:%S')\n",
    "        last_interval   = length['interval'] # int(length['interval'])\n",
    "        set_in_interval = set_in_interval + 1\n",
    "        last_style      = length['style']\n",
    "        set_distance    = int(float(length['distance']))\n",
    "        set_time        = length['time']\n",
    "        set_strokes     = length['strokes']\n",
    "        last_rest       = 0.0\n",
    "\n",
    "    # if the current row represents a change of day   \n",
    "    elif index>0 and last_datetime != length['datetime']: \n",
    "\n",
    "        # persist set data\n",
    "        sets_dictlist.append({\n",
    "                'datetime':last_datetime,'interval':last_interval,'set_in_interval':set_in_interval, \\\n",
    "                'style':last_style,'distance':set_distance,'time':str(round(set_time,3)),'strokes':set_strokes, \\\n",
    "                'prev_rest':str(round(last_rest,3)),'after_rest':max_rest\n",
    "            })\n",
    "        #print(last_datetime, last_interval, set_in_interval, \\\n",
    "        #      last_style, set_distance, set_time, set_strokes, \\\n",
    "        #      last_rest, max_rest)\n",
    "\n",
    "        # update variables\n",
    "        last_datetime   = length['datetime'] # datetime.strptime(length['datetime'], '%Y-%m-%d %H:%M:%S')\n",
    "        last_interval   = length['interval'] # int(length['interval'])\n",
    "        set_in_interval = 1\n",
    "        last_style      = length['style']\n",
    "        set_distance    = int(float(length['distance']))\n",
    "        set_time        = length['time']\n",
    "        set_strokes     = length['strokes']\n",
    "        last_rest       = max_rest\n",
    "\n",
    "    # if the current row is the last row   \n",
    "    elif index == num_rows-1:\n",
    "\n",
    "        # update variables\n",
    "        set_distance  = set_distance + int(float(length['distance']))\n",
    "        set_time      = set_time + length['time']\n",
    "        set_strokes   = set_strokes + length['strokes']\n",
    "        \n",
    "        # persist set data\n",
    "        sets_dictlist.append({\n",
    "                'datetime':last_datetime,'interval':last_interval,'set_in_interval':set_in_interval, \\\n",
    "                'style':last_style,'distance':set_distance,'time':str(round(set_time,3)),'strokes':set_strokes, \\\n",
    "                'prev_rest':str(round(last_rest,3)),'after_rest':0.0\n",
    "            })\n",
    "        #print(last_datetime, last_interval, set_in_interval, \\\n",
    "        #      last_style, set_distance, set_time, set_strokes, \\\n",
    "        #      last_rest, 0.0)\n",
    "\n",
    "    # otherwise... \n",
    "    else:\n",
    "        \n",
    "        # acumulate length data to be used in next aggregation step\n",
    "        last_datetime = length['datetime'] # datetime.strptime(length['datetime'], '%Y-%m-%d %H:%M:%S')\n",
    "        last_interval = length['interval'] # int(length['interval'])\n",
    "        last_style    = length['style']\n",
    "        set_distance  = set_distance + int(float(length['distance']))\n",
    "        set_time      = set_time + length['time']\n",
    "        set_strokes   = set_strokes + length['strokes']\n",
    "    \n",
    "        "
   ]
  },
  {
   "cell_type": "code",
   "execution_count": 97,
   "metadata": {
    "collapsed": true
   },
   "outputs": [],
   "source": [
    "# populate dataframe with list of dicts with sets data\n",
    "sets = pd.DataFrame(sets_dictlist)[['datetime','interval','set_in_interval','style','distance','time','strokes','prev_rest','after_rest']]"
   ]
  },
  {
   "cell_type": "code",
   "execution_count": 98,
   "metadata": {
    "collapsed": false
   },
   "outputs": [],
   "source": [
    "# Link sets to lengths\n",
    "# Not working because in lengths there is not enough information to differentiate sets within the same interval.\n",
    "# A set_in_interval is needed in lengths for the merge to work (to correctly link left&right)\n",
    "\n",
    "# add surrogate id column\n",
    "#sets = sets.reset_index().rename(columns={'index':'id'})\n",
    "\n",
    "# add surrogate set id to lengths\n",
    "#pd.merge(lengths, sets, how='inner', left_on=['datetime','interval'], right_on=['datetime','interval'])\\\n",
    "#[['datetime', 'interval', 'length', 'style_x', 'distance_x', 'time_x', 'strokes_x', 'id']]\\\n",
    "#.rename(columns={'style_x':'style','distance_x':'distance','time_x':'time','id':'set_id'})"
   ]
  },
  {
   "cell_type": "code",
   "execution_count": 99,
   "metadata": {
    "collapsed": false
   },
   "outputs": [
    {
     "name": "stdout",
     "output_type": "stream",
     "text": [
      "Sanity Checks\n",
      "- OK\n"
     ]
    }
   ],
   "source": [
    "# Sanity checks comparing sets and lengths\n",
    "print('Sanity Checks')\n",
    "\n",
    "# drop REST rows\n",
    "lengths_temp = lengths.drop(lengths[lengths['style'] == 'REST'].index)\n",
    "\n",
    "# print checks\n",
    "if sets['distance'].sum() - lengths_temp['distance'].sum() != 0:\n",
    "    print('- Failed check of sum of distances')\n",
    "elif round(sets['time'].astype(float).sum()) - round(lengths_temp['time'].sum()) != 0:\n",
    "    print('- Failed check of sum of times')\n",
    "elif sets['strokes'].sum() - lengths['strokes'].sum() != 0:\n",
    "    print('- Failed check of sum of strokes')\n",
    "elif len(sets['datetime'].unique()) != len(lengths_temp['datetime'].unique()):\n",
    "    print('- Failed check of unique datetimes')\n",
    "elif sum(round(sets.groupby('style').sum()['distance']) - round(lengths_temp.groupby('style').sum()['distance'])):\n",
    "    print('- Failed check of sum of style distances')\n",
    "    \n",
    "else:\n",
    "    print('- OK')\n",
    "    "
   ]
  },
  {
   "cell_type": "code",
   "execution_count": 100,
   "metadata": {
    "collapsed": true
   },
   "outputs": [],
   "source": [
    "# dump sets dataframe into csv\n",
    "sets.to_csv('sets.csv', header=True, index=False, mode='w')"
   ]
  },
  {
   "cell_type": "code",
   "execution_count": null,
   "metadata": {
    "collapsed": true
   },
   "outputs": [],
   "source": []
  }
 ],
 "metadata": {
  "anaconda-cloud": {},
  "kernelspec": {
   "display_name": "Python [conda root]",
   "language": "python",
   "name": "conda-root-py"
  },
  "language_info": {
   "codemirror_mode": {
    "name": "ipython",
    "version": 3
   },
   "file_extension": ".py",
   "mimetype": "text/x-python",
   "name": "python",
   "nbconvert_exporter": "python",
   "pygments_lexer": "ipython3",
   "version": "3.5.2"
  }
 },
 "nbformat": 4,
 "nbformat_minor": 1
}
